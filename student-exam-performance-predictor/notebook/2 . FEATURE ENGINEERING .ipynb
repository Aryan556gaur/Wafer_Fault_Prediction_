{
 "cells": [
  {
   "cell_type": "markdown",
   "id": "7a5b8c17",
   "metadata": {},
   "source": [
    "![image info](https://ineuron.ai/images/ineuron-logo.png)"
   ]
  },
  {
   "cell_type": "markdown",
   "id": "6e1284ba",
   "metadata": {},
   "source": [
    "###  FEATURE ENGINEERING STEPS \n",
    "- Exploring Features of the dataset\n",
    "- Hypothesis Testing \n",
    "- Checking for Normal Distribution using Transformations"
   ]
  },
  {
   "cell_type": "markdown",
   "id": "2bdd1013",
   "metadata": {},
   "source": [
    "###  Import Data and Required Packages\n",
    "####  Importing Pandas, Numpy, Matplotlib, Seaborn and Warings Library."
   ]
  },
  {
   "cell_type": "code",
   "execution_count": null,
   "id": "fc472f84",
   "metadata": {},
   "outputs": [],
   "source": [
    "import numpy as np\n",
    "import pandas as pd\n",
    "import seaborn as sns\n",
    "import scipy.stats as stats\n",
    "import matplotlib.pyplot as plt\n",
    "from scipy import stats\n",
    "import scipy.stats\n",
    "%matplotlib inline\n",
    "import warnings\n",
    "warnings.filterwarnings('ignore')"
   ]
  },
  {
   "cell_type": "markdown",
   "id": "a50954cb",
   "metadata": {},
   "source": [
    "#### Import the CSV Data as Pandas DataFrame"
   ]
  },
  {
   "cell_type": "code",
   "execution_count": null,
   "id": "814610d0",
   "metadata": {},
   "outputs": [],
   "source": [
    "df = pd.read_csv('data/stud.csv')"
   ]
  },
  {
   "cell_type": "markdown",
   "id": "ffc98e26",
   "metadata": {},
   "source": [
    "#### Show Top 5 Records"
   ]
  },
  {
   "cell_type": "code",
   "execution_count": null,
   "id": "360da8ed",
   "metadata": {},
   "outputs": [],
   "source": [
    "df.head()"
   ]
  },
  {
   "cell_type": "markdown",
   "id": "f4fb7d7c",
   "metadata": {},
   "source": [
    "### 2 .Hypothesis Testing\n",
    "#### 2.1 Checking correlation"
   ]
  },
  {
   "cell_type": "code",
   "execution_count": null,
   "id": "7d0be0f2",
   "metadata": {},
   "outputs": [],
   "source": [
    "df.corr()"
   ]
  },
  {
   "cell_type": "code",
   "execution_count": null,
   "id": "fbf87dd4",
   "metadata": {},
   "outputs": [],
   "source": [
    "num_data = ['math score','reading score','writing score']"
   ]
  },
  {
   "cell_type": "code",
   "execution_count": null,
   "id": "d49059d2",
   "metadata": {},
   "outputs": [],
   "source": [
    "sns.pairplot(df.iloc[:, 4:8])"
   ]
  },
  {
   "cell_type": "markdown",
   "id": "dfc22fee",
   "metadata": {},
   "source": [
    "#### Insights\n",
    "- All of the pairplots seems to have a linear relationship with the other variable. To clarify that we'll plot the correlation map."
   ]
  },
  {
   "cell_type": "code",
   "execution_count": null,
   "id": "31c5ab3c",
   "metadata": {},
   "outputs": [],
   "source": [
    "num_features=[col for col in df.columns if df[col].dtype!='O']\n",
    "num_df = df[num_features]"
   ]
  },
  {
   "cell_type": "markdown",
   "id": "532dfbcf",
   "metadata": {},
   "source": [
    "#### 2.2  Shapiro Wick Test\n",
    "* **The Shapiro-Wilk test is a way to tell if a random sample comes from a normal distribution.**\n",
    "\n",
    "- Ho : Data is normally distributed\n",
    "- H1 : Data is not normally distributed"
   ]
  },
  {
   "cell_type": "code",
   "execution_count": null,
   "id": "6cc1f982",
   "metadata": {},
   "outputs": [],
   "source": [
    "from scipy.stats import shapiro\n",
    "shapiro_wick_test = []\n",
    "for column in num_features:\n",
    "    dataToTest = num_df[column]\n",
    "    stat,p = shapiro(dataToTest)\n",
    "    if p > 0.05:\n",
    "        shapiro_wick_test.append(\"Normally Distributed\")\n",
    "    else:\n",
    "        shapiro_wick_test.append(\"Not Normally Distributed\")\n",
    "result = pd.DataFrame(data=[num_features, shapiro_wick_test]).T\n",
    "result.columns = ['Column Name', 'Shapiro Hypothesis Result']\n",
    "result"
   ]
  },
  {
   "cell_type": "markdown",
   "id": "b7070eae",
   "metadata": {},
   "source": [
    "#### 2.3 K^2 Normality Test\n",
    "* **Test aims to establish whether or not the given sample comes from a normally distributed population. Test is based on transformations of the sample kurtosis and skewness**\n",
    "\n",
    "- Ho : Data is normally distributed\n",
    "- H1 : Data is not normally distributed"
   ]
  },
  {
   "cell_type": "code",
   "execution_count": null,
   "id": "7bd28c13",
   "metadata": {},
   "outputs": [],
   "source": [
    "from scipy.stats import normaltest\n",
    "normaltest_test = []\n",
    "for column in num_features:\n",
    "    dataToTest = num_df[column]\n",
    "    stat,p = normaltest(dataToTest)\n",
    "    if p > 0.05:\n",
    "        normaltest_test.append(\"Normally Distributed\")\n",
    "    else:\n",
    "        normaltest_test.append(\"Not Normally Distributed\")\n",
    "result = pd.DataFrame(data=[num_features, normaltest_test]).T\n",
    "result.columns = ['Column Name', 'normaltest Hypothesis Result']\n",
    "result"
   ]
  },
  {
   "cell_type": "markdown",
   "id": "53b19dee",
   "metadata": {},
   "source": [
    "#### 2.4 Spearmanr Test\n",
    "\n",
    "* **Spearman Rank Correlation, which is used to measure the correlation between two ranked variables**\n",
    "* **Whereas The Pearson correlation coefficient is computed using raw data values**\n",
    "* **Unlike the Pearson correlation, the Spearman correlation does not assume that both datasets are normally distributed.**\n",
    "* **Spearman rank correlation is closely related to the Pearson correlation, and both are a bounded value, from -1 to 1 denoting a correlation between two variables.**\n",
    "- Ho : Independent Samples\n",
    "- H1 : Dependent Samples"
   ]
  },
  {
   "cell_type": "code",
   "execution_count": null,
   "id": "a1f82644",
   "metadata": {},
   "outputs": [],
   "source": [
    "plt.rcParams[\"figure.figsize\"] = (15,6)\n",
    "plt.subplot(1, 3, 1)\n",
    "plt.plot(num_df['math score'],num_df['reading score'])\n",
    "plt.subplot(1, 3, 2)\n",
    "plt.plot(num_df['writing score'],num_df['reading score'])\n",
    "plt.subplot(1, 3, 3)\n",
    "plt.plot(num_df['math score'],num_df['writing score'])\n",
    "plt.show()"
   ]
  },
  {
   "cell_type": "markdown",
   "id": "b5967289",
   "metadata": {},
   "source": [
    "#### Insight \n",
    "- We can observe linear relationship amoung two varibales.\n",
    "- lets prove it hypothetically too using spearman Rank and Pearson Correlation Tests."
   ]
  },
  {
   "cell_type": "code",
   "execution_count": null,
   "id": "8ee66d5d",
   "metadata": {},
   "outputs": [],
   "source": [
    "from scipy.stats import spearmanr\n",
    "from scipy.stats import pearsonr\n",
    "\n",
    "def test_correlation(test_name,column1, column2):\n",
    "    column1_to_test = num_df[column1]\n",
    "    column2_to_test = num_df[column2]\n",
    "    stat,p = test_name(column1_to_test , column2_to_test)\n",
    "    d =dict()\n",
    "    d['col1'] = column1\n",
    "    d['col2'] = column2\n",
    "    if p> 0.05:\n",
    "        test_results.append(\"Independent Samples\")\n",
    "    else:\n",
    "        test_results.append(\"Dependent Samples\")\n",
    "    columns_combination.append(d)"
   ]
  },
  {
   "cell_type": "code",
   "execution_count": null,
   "id": "87bd16f1",
   "metadata": {},
   "outputs": [],
   "source": [
    "columns_combination = []\n",
    "test_results = []\n",
    "test_correlation(spearmanr,'math score','reading score')"
   ]
  },
  {
   "cell_type": "code",
   "execution_count": null,
   "id": "4a9dee3b",
   "metadata": {},
   "outputs": [],
   "source": [
    "test_correlation(spearmanr,'writing score','reading score')"
   ]
  },
  {
   "cell_type": "code",
   "execution_count": null,
   "id": "f7730e9b",
   "metadata": {},
   "outputs": [],
   "source": [
    "test_correlation(spearmanr,'math score','writing score')"
   ]
  },
  {
   "cell_type": "code",
   "execution_count": null,
   "id": "f9426393",
   "metadata": {},
   "outputs": [],
   "source": [
    "df_spearmanr = pd.DataFrame(columns_combination,test_results)\n",
    "df_spearmanr"
   ]
  },
  {
   "cell_type": "markdown",
   "id": "39caba34",
   "metadata": {},
   "source": [
    "####  2.5 pearsonr Test\n",
    "- Ho : Independent Samples\n",
    "- H1 : Dependent Samples"
   ]
  },
  {
   "cell_type": "code",
   "execution_count": null,
   "id": "8b5af4ff",
   "metadata": {},
   "outputs": [],
   "source": [
    "columns_combination = []\n",
    "test_results = []\n",
    "test_correlation(pearsonr,'math score','reading score')"
   ]
  },
  {
   "cell_type": "code",
   "execution_count": null,
   "id": "4ae9648d",
   "metadata": {},
   "outputs": [],
   "source": [
    "test_correlation(pearsonr,'writing score','reading score')"
   ]
  },
  {
   "cell_type": "code",
   "execution_count": null,
   "id": "9b1e3f10",
   "metadata": {},
   "outputs": [],
   "source": [
    "test_correlation(pearsonr,'math score','writing score')"
   ]
  },
  {
   "cell_type": "code",
   "execution_count": null,
   "id": "cc9e4208",
   "metadata": {},
   "outputs": [],
   "source": [
    "df_pearsonr = pd.DataFrame(columns_combination,test_results)\n",
    "df_pearsonr"
   ]
  },
  {
   "cell_type": "markdown",
   "id": "fb80a582",
   "metadata": {},
   "source": [
    "#### Result\n",
    "- At 5% level of significance\n",
    "- From above two tests of Pearsonr and Spearmanr ,\n",
    "- since all the three p-values are more than 0.05.\n",
    "- Inference: The scores have a correlation between them."
   ]
  },
  {
   "cell_type": "code",
   "execution_count": null,
   "id": "96cd2a4f",
   "metadata": {},
   "outputs": [],
   "source": [
    "categorical_features = [feature for feature in df.columns if df[feature].dtype == 'O']"
   ]
  },
  {
   "cell_type": "markdown",
   "id": "36a0509e",
   "metadata": {},
   "source": [
    "#### 2.6 Chi-squared test \n",
    "* **Tests whether two categorical fetaures are dependent or Not.**\n",
    "* Here we will test correlation of Categorical columns with Target column i.e average\n",
    "* Assumptions-\n",
    " - All are Independent observation \n",
    " - Size of each box of contingency table > 25"
   ]
  },
  {
   "cell_type": "code",
   "execution_count": null,
   "id": "fd5144ab",
   "metadata": {},
   "outputs": [],
   "source": [
    "from scipy.stats import chi2_contingency\n",
    "chi2_squared_test = []\n",
    "for feature in categorical_features:\n",
    "    stat, p , dof, expected = chi2_contingency(pd.crosstab(df['math score'], df[feature]))\n",
    "    if p> 0.05:\n",
    "        chi2_squared_test.append(\"Independent Categories\")\n",
    "    else:\n",
    "        chi2_squared_test.append(\"Dependent Categories\")\n",
    "result = pd.DataFrame(data=[categorical_features, chi2_squared_test]).T\n",
    "result.columns = ['Column', 'Hypothesis Result']\n",
    "result"
   ]
  },
  {
   "cell_type": "markdown",
   "id": "f21d352c",
   "metadata": {},
   "source": [
    "**Insights** \n",
    "* Here our output is dependent on Lunch"
   ]
  },
  {
   "cell_type": "markdown",
   "id": "b1fe7d45",
   "metadata": {},
   "source": [
    "#### 2.7 Levene's Test \n",
    "* **Equality of variance test**\n",
    "\n",
    "- Ho : Female and male have equal variance\n",
    "- H1 : Female and male do not have equal variance"
   ]
  },
  {
   "cell_type": "code",
   "execution_count": null,
   "id": "a8fed0db",
   "metadata": {},
   "outputs": [],
   "source": [
    "math_var = scipy.stats.levene(df[df['gender']=='female']['math score'],\n",
    "                  df[df['gender']=='male']['math score'], center = 'mean')\n",
    "reading_var = scipy.stats.levene(df[df['gender']=='female']['reading score'],\n",
    "                  df[df['gender']=='male']['reading score'], center = 'mean')\n",
    "writing_var = scipy.stats.levene(df[df['gender']=='female']['writing score'],\n",
    "                  df[df['gender']=='male']['writing score'], center = 'mean')\n",
    "print(\"Test Statistic and p-value for math  is\", math_var)\n",
    "print('\\n')\n",
    "print(\"Test Statistic and p-value for writing is\", writing_var)\n",
    "print('\\n')\n",
    "print(\"Test Statistic and p-value for reading is\", reading_var)"
   ]
  },
  {
   "cell_type": "markdown",
   "id": "2616f5a9",
   "metadata": {},
   "source": [
    "#### Result\n",
    "- Conclusion : Since, at 5% level of significance, P(calculated) > P(0.05).\n",
    "- Therefore we will accept the null hypothesis\n",
    "- Inference : All the scores have equal variance with respect to gender."
   ]
  },
  {
   "cell_type": "markdown",
   "id": "13b1d663",
   "metadata": {},
   "source": [
    "#### 2.8 Checking Correlation using Heatmaps"
   ]
  },
  {
   "cell_type": "code",
   "execution_count": null,
   "id": "be5b6fb5",
   "metadata": {},
   "outputs": [],
   "source": [
    " # Relationship analysis\n",
    "sns.heatmap(df.corr(),annot=True,cmap='icefire',linewidths=0.2) #data.corr()-->correlation matrix\n",
    "fig=plt.gcf()\n",
    "fig.set_size_inches(16,10)\n",
    "#fig.title('corelation between math, reading and writing scores')\n",
    "plt.title('Correlation between math, reading and writing scores',color='black',size=25)\n",
    "plt.show()"
   ]
  },
  {
   "cell_type": "markdown",
   "id": "bdf70769",
   "metadata": {},
   "source": [
    "#### Insights \n",
    "- Total_score is highly correlated with individual score.\n",
    "- Reading score is also highly correlated with writing score which means students who reads well can also writes well.\n",
    "- Math_score doesnt have much high correlation so it is not neccessary that if a student performs well in maths has to perform well in other aspects or vice-versa\n",
    "- Total_score and average are highy correlated , hence we can delete one amoung them."
   ]
  },
  {
   "cell_type": "markdown",
   "id": "31ab09bd",
   "metadata": {},
   "source": [
    "###  3 . Checking for Normal Distribution using Transformations\n",
    "- Q-Q plot (to check if data is normally distributed or not)"
   ]
  },
  {
   "cell_type": "code",
   "execution_count": null,
   "id": "29f669b9",
   "metadata": {},
   "outputs": [],
   "source": [
    "# density plot using seaborn library\n",
    "fig, axs = plt.subplots(3, 1, figsize=(15, 7))\n",
    "\n",
    "sns.kdeplot(df['math score'],shade=True,label='Maths',color='gold',ax=axs[0],alpha=0.5)\n",
    "sns.kdeplot(df['reading score'],shade=True,label='Reading',color='indigo',ax=axs[1],alpha=0.5)\n",
    "sns.kdeplot(df['writing score'],shade=True,label='Writing',color='pink',ax=axs[2],alpha=0.5)\n",
    "plt.show()"
   ]
  },
  {
   "cell_type": "code",
   "execution_count": null,
   "id": "e7bb1cb0",
   "metadata": {},
   "outputs": [],
   "source": [
    "def plots(df,var,t):\n",
    "    plt.figure(figsize=(13,5))\n",
    "    plt.subplot(121)\n",
    "    sns.distplot(df[var])\n",
    "    plt.title('before' + str(t))\n",
    "    plt.subplot(122)\n",
    "    sns.distplot(t)\n",
    "    plt.title('After' + str(t))\n",
    "    plt.show()"
   ]
  },
  {
   "cell_type": "markdown",
   "id": "2897f19f",
   "metadata": {},
   "source": [
    "#### 3.1 Log Transform"
   ]
  },
  {
   "cell_type": "markdown",
   "id": "09e0f602",
   "metadata": {},
   "source": [
    "#### 3.1 Box-Cox Transform\n",
    "- Assumption -\n",
    " * your data must be positive"
   ]
  },
  {
   "cell_type": "code",
   "execution_count": null,
   "id": "57d28a18",
   "metadata": {},
   "outputs": [],
   "source": [
    "def plot_qq_plot(column):\n",
    "    plt.figure(figsize=(14,4))\n",
    "    plt.subplot(121)\n",
    "    sns.distplot(df[column])\n",
    "    plt.title(\"{} PDF\".format(column))\n",
    "    plt.subplot(122)\n",
    "    stats.probplot(df[column], dist=\"norm\", plot=plt)\n",
    "    plt.title('{} QQ Plot'.format(column))\n",
    "    plt.show()"
   ]
  },
  {
   "cell_type": "code",
   "execution_count": null,
   "id": "c842d726",
   "metadata": {},
   "outputs": [],
   "source": [
    "plot_qq_plot('math score')"
   ]
  },
  {
   "cell_type": "code",
   "execution_count": null,
   "id": "5073b4e9",
   "metadata": {},
   "outputs": [],
   "source": [
    "plot_qq_plot('reading score')"
   ]
  },
  {
   "cell_type": "code",
   "execution_count": null,
   "id": "912678b3",
   "metadata": {},
   "outputs": [],
   "source": [
    "plot_qq_plot('writing score')"
   ]
  },
  {
   "cell_type": "markdown",
   "id": "b2fd7e10",
   "metadata": {},
   "source": [
    "#### Insights\n",
    "-  For range -2 to 2 math score follows normal distribution, but for values less than -2 and for values greater than 2 it doesn't follow normal distribution"
   ]
  },
  {
   "cell_type": "code",
   "execution_count": null,
   "id": "cd8c2994",
   "metadata": {},
   "outputs": [],
   "source": [
    "import statsmodels.api as sm # to build the Q-Q graph\n",
    "# Create three subplots\n",
    "fig, (ax1, ax2, ax3) = plt.subplots(ncols=3,figsize=(15, 7)) \n",
    "\n",
    "\n",
    "sm.qqplot(df['math score'], markerfacecolor = \"green\", markeredgecolor = \"green\", line='45',  fit = True, ax=ax1)\n",
    "ax1.set_title(\"Math Scores\")\n",
    "\n",
    "sm.qqplot(df['reading score'], markerfacecolor = \"orange\", markeredgecolor = \"orange\", line='45', fit = True, ax=ax2)\n",
    "ax2.set_title(\"Reading Scores\")\n",
    "\n",
    "sm.qqplot(df['writing score'], markerfacecolor = \"blue\", markeredgecolor = \"blue\", line='45', fit = True, ax=ax3)\n",
    "ax3.set_title(\"Writing Scores\")\n",
    "\n",
    "# Set the global title\n",
    "plt.suptitle(\"Normality check of students scores using Q-Q chart\")\n",
    "\n",
    "plt.show()"
   ]
  },
  {
   "cell_type": "markdown",
   "id": "c4d0b2ad",
   "metadata": {},
   "source": [
    " #### Insights\n",
    "  - There exists correlation between students scores and the normal distribution line. This means that our data is very close to Gaussian! "
   ]
  }
 ],
 "metadata": {
  "kernelspec": {
   "display_name": "Python 3 (ipykernel)",
   "language": "python",
   "name": "python3"
  },
  "language_info": {
   "codemirror_mode": {
    "name": "ipython",
    "version": 3
   },
   "file_extension": ".py",
   "mimetype": "text/x-python",
   "name": "python",
   "nbconvert_exporter": "python",
   "pygments_lexer": "ipython3",
   "version": "3.9.12"
  }
 },
 "nbformat": 4,
 "nbformat_minor": 5
}
