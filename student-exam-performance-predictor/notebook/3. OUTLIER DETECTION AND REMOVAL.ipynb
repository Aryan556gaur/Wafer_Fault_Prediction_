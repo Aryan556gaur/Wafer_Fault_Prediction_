{
 "cells": [
  {
   "cell_type": "markdown",
   "id": "f718dc8e",
   "metadata": {},
   "source": [
    "![image info](https://ineuron.ai/images/ineuron-logo.png)"
   ]
  },
  {
   "cell_type": "markdown",
   "id": "a7986a49",
   "metadata": {},
   "source": [
    "### OUTLIERS DETECTION & REMOVAL approaches\n",
    "* Identifying outliers with visualization\n",
    "* Z-score method\n",
    "* Interquartile Range Method( IQR ) method\n",
    "* Compare Skewness"
   ]
  },
  {
   "cell_type": "markdown",
   "id": "a7128dbd",
   "metadata": {},
   "source": [
    "### Import Data and Required Packages\n",
    "####  Importing Pandas, Numpy, Matplotlib, Seaborn and Warings Library."
   ]
  },
  {
   "cell_type": "code",
   "execution_count": null,
   "id": "0ce9d265",
   "metadata": {},
   "outputs": [],
   "source": [
    "import numpy as np\n",
    "import pandas as pd\n",
    "import seaborn as sns\n",
    "import scipy.stats as stats\n",
    "import matplotlib.pyplot as plt\n",
    "%matplotlib inline\n",
    "import warnings\n",
    "warnings.filterwarnings('ignore')"
   ]
  },
  {
   "cell_type": "markdown",
   "id": "ee4dafa2",
   "metadata": {},
   "source": [
    "#### Import the CSV Data as Pandas DataFrame"
   ]
  },
  {
   "cell_type": "code",
   "execution_count": null,
   "id": "284a2368",
   "metadata": {},
   "outputs": [],
   "source": [
    "df = pd.read_csv('data/stud.csv')"
   ]
  },
  {
   "cell_type": "markdown",
   "id": "9f428d9d",
   "metadata": {},
   "source": [
    "### 1. Identifying outliers with visualization"
   ]
  },
  {
   "cell_type": "code",
   "execution_count": null,
   "id": "58faac08",
   "metadata": {},
   "outputs": [],
   "source": [
    "num_features=[col for col in df.columns if df[col].dtype!='O']\n",
    "num_df = df[num_features]\n",
    "num_df.head()"
   ]
  },
  {
   "cell_type": "code",
   "execution_count": null,
   "id": "09aa940f",
   "metadata": {},
   "outputs": [],
   "source": [
    "plt.figure(figsize=(50,20))\n",
    "for i,col in enumerate(num_df.columns):\n",
    "    plt.subplot(4,9,i+1)\n",
    "    sns.boxplot(num_df[col])"
   ]
  },
  {
   "cell_type": "code",
   "execution_count": null,
   "id": "0d93644c",
   "metadata": {},
   "outputs": [],
   "source": [
    "plt.figure(figsize=(15, 10))\n",
    "plt.suptitle('Distribution of numerical feature', fontsize=20, fontweight='bold', alpha=0.8, y=1.)\n",
    "numeric_features = [feature for feature in df.columns if df[feature].dtype != 'O']\n",
    "for i in range(0, len(numeric_features)):\n",
    "    plt.subplot(5, 3, i+1)\n",
    "    sns.kdeplot(x=df[numeric_features[i]], color='blue')\n",
    "    plt.xlabel(numeric_features[i])\n",
    "    plt.tight_layout()"
   ]
  },
  {
   "cell_type": "markdown",
   "id": "b0c0fe09",
   "metadata": {},
   "source": [
    "#### Insigths\n",
    "- The outliers are there ,as there are many data points which lie far away from maximum points."
   ]
  },
  {
   "cell_type": "code",
   "execution_count": null,
   "id": "f0f1dce2",
   "metadata": {},
   "outputs": [],
   "source": [
    "obj = ['race/ethnicity','parental level of education','lunch','test preparation course','gender']\n",
    "def count_outliers(data,col):\n",
    "        q1 = data[col].quantile(0.25,interpolation='nearest')\n",
    "        q2 = data[col].quantile(0.5,interpolation='nearest')\n",
    "        q3 = data[col].quantile(0.75,interpolation='nearest')\n",
    "        q4 = data[col].quantile(1,interpolation='nearest')\n",
    "        IQR = q3 -q1\n",
    "        global LLP\n",
    "        global ULP\n",
    "        LLP = q1 - 1.5*IQR\n",
    "        ULP = q3 + 1.5*IQR\n",
    "        if data[col].min() > LLP and data[col].max() < ULP:\n",
    "            print(\"No outliers in\",i)\n",
    "        else:\n",
    "            print(\"There are outliers in\",i)\n",
    "            x = data[data[col]<LLP][col].size\n",
    "            y = data[data[col]>ULP][col].size\n",
    "            a.append(i)\n",
    "            print('Count of outliers are:',x+y)\n",
    "global a\n",
    "a = []\n",
    "x = df.drop(obj,axis = 1)\n",
    "for i in x.columns:\n",
    "    count_outliers(x,i)"
   ]
  },
  {
   "cell_type": "markdown",
   "id": "8c2494e8",
   "metadata": {},
   "source": [
    "### 2 .  Z-score  method\n",
    "#### Z-score:\n",
    "- The number of standard deviations away from the mean that a particular observation is.\n",
    "- A negative Z-score means an observation is below the mean.\n",
    "- while a positive Z-score means means it above the mean.\n",
    "- The further away from 0 the Z-Score is, the further away from the mean your observation is."
   ]
  },
  {
   "cell_type": "code",
   "execution_count": null,
   "id": "03c56e2e",
   "metadata": {},
   "outputs": [],
   "source": [
    "# Function to detect outliers\n",
    "def outlier_thresholds(dataframe, variable):\n",
    "    quartile1 = dataframe[variable].quantile(0.10)\n",
    "    quartile3 = dataframe[variable].quantile(0.90)\n",
    "    interquantile_range = quartile3 - quartile1\n",
    "    up_limit = quartile3 + 1.5 * interquantile_range\n",
    "    low_limit = quartile1 - 1.5 * interquantile_range\n",
    "    return low_limit, up_limit"
   ]
  },
  {
   "cell_type": "code",
   "execution_count": null,
   "id": "c404517a",
   "metadata": {},
   "outputs": [],
   "source": [
    "## function to remove outliers\n",
    "def replace_with_thresholds(dataframe, numeric_columns):\n",
    "    for variable in numeric_columns:\n",
    "        low_limit, up_limit = outlier_thresholds(dataframe, variable)\n",
    "        dataframe.loc[(dataframe[variable] < low_limit), variable] = low_limit\n",
    "        dataframe.loc[(dataframe[variable] > up_limit), variable] = up_limit"
   ]
  },
  {
   "cell_type": "code",
   "execution_count": null,
   "id": "ac3583d0",
   "metadata": {},
   "outputs": [],
   "source": [
    "replace_with_thresholds(num_df, num_df.columns)"
   ]
  },
  {
   "cell_type": "code",
   "execution_count": null,
   "id": "452affa9",
   "metadata": {},
   "outputs": [],
   "source": [
    "plt.figure(figsize=(50,18))\n",
    "for i,col in enumerate(num_df.columns):\n",
    "    plt.subplot(4,9,i+1)\n",
    "    sns.boxplot(num_df[col])"
   ]
  },
  {
   "cell_type": "markdown",
   "id": "a52bf6fb",
   "metadata": {},
   "source": [
    "#### Insights\n",
    "- As we can see from above boxplots outliers are not removed properly"
   ]
  },
  {
   "cell_type": "markdown",
   "id": "efd6f933",
   "metadata": {},
   "source": [
    "### 3.  Interquartile Range Method( IQR ) method"
   ]
  },
  {
   "cell_type": "code",
   "execution_count": null,
   "id": "fcd2ebec",
   "metadata": {},
   "outputs": [],
   "source": [
    "for col in num_df.columns:\n",
    "    plt.figure(figsize=(12,4))\n",
    "    sns.boxplot(df[col])\n",
    "    plt.title(col)"
   ]
  },
  {
   "cell_type": "code",
   "execution_count": null,
   "id": "d1943ac1",
   "metadata": {},
   "outputs": [],
   "source": [
    "df1 = df.copy()\n",
    "def remove_outliers_IQR(col):\n",
    "    # Finding the IQR\n",
    "    percentile25 = df1[col].quantile(0.25)\n",
    "    percentile75 = df1[col].quantile(0.75)\n",
    "    print(\"percentile25\",percentile25)\n",
    "    print(\"percentile75\",percentile75)\n",
    "    iqr = percentile75 - percentile25\n",
    "    upper_limit = percentile75 + 1.5 * iqr\n",
    "    lower_limit = percentile25 - 1.5 * iqr\n",
    "    print(\"Upper limit\",upper_limit)\n",
    "    print(\"Lower limit\",lower_limit)\n",
    "    df1[col] = np.where(df1[col]>upper_limit, upper_limit, np.where(df1[col]<lower_limit,lower_limit,df1[col]))\n",
    "    return df1[df1[col] > upper_limit]"
   ]
  },
  {
   "cell_type": "code",
   "execution_count": null,
   "id": "1b72750e",
   "metadata": {},
   "outputs": [],
   "source": [
    "remove_outliers_IQR('math score')"
   ]
  },
  {
   "cell_type": "code",
   "execution_count": null,
   "id": "362c1d04",
   "metadata": {},
   "outputs": [],
   "source": [
    "def create_comparison_plot(df,df1,column):\n",
    "    # Comparing\n",
    "    plt.figure(figsize=(16,8))\n",
    "    plt.subplot(2,2,1)\n",
    "    sns.distplot(df[column])\n",
    "\n",
    "    plt.subplot(2,2,2)\n",
    "    sns.boxplot(df[column])\n",
    "\n",
    "    plt.subplot(2,2,3)\n",
    "    sns.distplot(df1[column])\n",
    "\n",
    "    plt.subplot(2,2,4)\n",
    "    sns.boxplot(df1[column])\n",
    "\n",
    "    plt.show()"
   ]
  },
  {
   "cell_type": "code",
   "execution_count": null,
   "id": "93d48048",
   "metadata": {},
   "outputs": [],
   "source": [
    "create_comparison_plot(df,df1,\"math score\")"
   ]
  },
  {
   "cell_type": "code",
   "execution_count": null,
   "id": "38c11cf2",
   "metadata": {},
   "outputs": [],
   "source": [
    "remove_outliers_IQR('reading score')"
   ]
  },
  {
   "cell_type": "code",
   "execution_count": null,
   "id": "f723e60a",
   "metadata": {},
   "outputs": [],
   "source": [
    "create_comparison_plot(df,df1,\"reading score\")"
   ]
  },
  {
   "cell_type": "code",
   "execution_count": null,
   "id": "8c1656d8",
   "metadata": {},
   "outputs": [],
   "source": [
    "remove_outliers_IQR('writing score')"
   ]
  },
  {
   "cell_type": "code",
   "execution_count": null,
   "id": "3673b7fd",
   "metadata": {},
   "outputs": [],
   "source": [
    "create_comparison_plot(df,df1,\"writing score\")"
   ]
  },
  {
   "cell_type": "markdown",
   "id": "01b648c8",
   "metadata": {},
   "source": [
    "### 4. Compare Skewness"
   ]
  },
  {
   "cell_type": "code",
   "execution_count": null,
   "id": "3ab97a05",
   "metadata": {},
   "outputs": [],
   "source": [
    "df.skew()"
   ]
  },
  {
   "cell_type": "code",
   "execution_count": null,
   "id": "0d6dc04e",
   "metadata": {},
   "outputs": [],
   "source": [
    "df1.skew()"
   ]
  },
  {
   "cell_type": "markdown",
   "id": "0aff44a1",
   "metadata": {},
   "source": [
    "#### Insights\n",
    "- Skewness is reduced after we have removed ouliers using IQR Method"
   ]
  },
  {
   "cell_type": "code",
   "execution_count": null,
   "id": "7457f86b",
   "metadata": {},
   "outputs": [],
   "source": [
    "df.to_csv('outlier_removed.csv', index=False)"
   ]
  }
 ],
 "metadata": {
  "kernelspec": {
   "display_name": "Python 3 (ipykernel)",
   "language": "python",
   "name": "python3"
  },
  "language_info": {
   "codemirror_mode": {
    "name": "ipython",
    "version": 3
   },
   "file_extension": ".py",
   "mimetype": "text/x-python",
   "name": "python",
   "nbconvert_exporter": "python",
   "pygments_lexer": "ipython3",
   "version": "3.9.12"
  },
  "vscode": {
   "interpreter": {
    "hash": "7f9dc718a552478e14f37d36e0ca2ac7de1ac15c04a40a415ea3abc3fe8a0a39"
   }
  }
 },
 "nbformat": 4,
 "nbformat_minor": 5
}
